{
 "cells": [
  {
   "cell_type": "code",
   "execution_count": 1,
   "metadata": {},
   "outputs": [
    {
     "name": "stdout",
     "output_type": "stream",
     "text": [
      "cuda: True\n",
      "available GPU(s): 1\n",
      "0: {'name': 'GeForce GTX 1080 Ti', 'capability': [6, 1], 'total_momory': 10.92, 'sm_count': 28}\n",
      "\n",
      "device: cuda\n"
     ]
    }
   ],
   "source": [
    "import torch\n",
    "import matplotlib.pyplot as plt\n",
    "import pytorch_mask_rcnn as pmr\n",
    "from PIL import Image\n",
    "import os\n",
    "from torchvision.transforms import transforms\n",
    "import json\n",
    "import numpy as np\n",
    "import pycocotools\n",
    "from pycocotools.coco import COCO\n",
    "from pycocotools.cocoeval import COCOeval\n",
    "\n",
    "use_cuda = True\n",
    "dataset = \"coco\"\n",
    "ckpt_path = \"/data/zihaosh/hw2_load/hw3-xco-60.pth\"\n",
    "data_dir = \"/data/zihaosh/hw3/\"\n",
    "\n",
    "device = torch.device(\"cuda\" if torch.cuda.is_available() and use_cuda else \"cpu\")\n",
    "if device.type == \"cuda\":\n",
    "    pmr.get_gpu_prop(show=True)\n",
    "print(\"\\ndevice: {}\".format(device))\n",
    "\n"
   ]
  },
  {
   "cell_type": "code",
   "execution_count": 2,
   "metadata": {},
   "outputs": [
    {
     "name": "stdout",
     "output_type": "stream",
     "text": [
      "/data/zihaosh/hw3/test.json\n",
      "loading annotations into memory...\n",
      "Done (t=0.00s)\n",
      "creating index...\n",
      "index created!\n"
     ]
    }
   ],
   "source": [
    "ds = pmr.datasets(dataset, data_dir, \"test_images\", train=False)"
   ]
  },
  {
   "cell_type": "code",
   "execution_count": 3,
   "metadata": {},
   "outputs": [
    {
     "name": "stdout",
     "output_type": "stream",
     "text": [
      "******************** True\n"
     ]
    }
   ],
   "source": [
    "model = pmr.maskrcnn_resnet50(len(ds.classes) + 1).to(device)\n",
    "model.eval()\n",
    "model.head.score_thresh = 0.3\n",
    "\n",
    "if ckpt_path:\n",
    "    checkpoint = torch.load(ckpt_path, map_location=device)\n",
    "    model.load_state_dict(checkpoint[\"model\"])\n",
    "    torch.cuda.empty_cache()\n",
    "    \n",
    "for p in model.parameters():\n",
    "    p.requires_grad_(False)\n"
   ]
  },
  {
   "cell_type": "code",
   "execution_count": 4,
   "metadata": {},
   "outputs": [
    {
     "name": "stdout",
     "output_type": "stream",
     "text": [
      "loading annotations into memory...\n",
      "Done (t=0.00s)\n",
      "creating index...\n",
      "index created!\n",
      "10\n",
      "20\n",
      "30\n",
      "40\n",
      "50\n",
      "60\n",
      "70\n",
      "80\n",
      "90\n",
      "100\n",
      "281\n"
     ]
    }
   ],
   "source": [
    "cocoGt = COCO(data_dir+\"test.json\")\n",
    "coco_dt = []\n",
    "jishu = 0\n",
    "for imgid in cocoGt.imgs:\n",
    "    img_id = int(imgid)\n",
    "    img_info = cocoGt.imgs[img_id]\n",
    "    jishu+=1\n",
    "    if jishu%10 == 0:\n",
    "        print(jishu)\n",
    "    image = Image.open(os.path.join(data_dir, 'test_images', img_info[\"file_name\"]))\n",
    "    image.convert(\"RGB\")\n",
    "    transform1 = transforms.Compose([transforms.ToTensor()])\n",
    "    image = transform1(image)\n",
    "    image = image.to(device)\n",
    "    with torch.no_grad():\n",
    "        result = model(image)\n",
    "    \n",
    "#     plt.figure(figsize=(12, 15))\n",
    "#     pmr.show(image, result, ds.classes)    \n",
    "    \n",
    "    masks = result['masks'].gt_(0.5)\n",
    "    masks = masks.cpu().numpy()\n",
    "\n",
    "    categories = result['labels']\n",
    "    scores = result['scores']\n",
    "    n_instances = len(scores)    \n",
    "    if len(categories) > 0: # If any objects are detected in this image\n",
    "        for i in range(n_instances): # Loop all instances\n",
    "            # save information of the instance in a dictionary then append on coco_dt list\n",
    "            pred = {}\n",
    "            pred['image_id'] = imgid # this imgid must be same as the key of test.json\n",
    "            pred['category_id'] = int(categories[i])+1\n",
    "            segmentation = masks[i,:,:]\n",
    "            rle = pycocotools.mask.encode(np.asfortranarray(segmentation.astype(np.uint8)))\n",
    "            rle['counts'] = rle['counts'].decode('ascii')\n",
    "            pred['segmentation'] = rle\n",
    "            pred['score'] = float(scores[i])\n",
    "            coco_dt.append(pred)\n",
    "\n",
    "print(len(coco_dt))\n",
    "with open(\"/output/0616109_.json\", \"w\") as f:\n",
    "    json.dump(coco_dt, f)"
   ]
  },
  {
   "cell_type": "code",
   "execution_count": null,
   "metadata": {},
   "outputs": [],
   "source": []
  }
 ],
 "metadata": {
  "kernelspec": {
   "display_name": "Python 3",
   "language": "python",
   "name": "python3"
  },
  "language_info": {
   "codemirror_mode": {
    "name": "ipython",
    "version": 3
   },
   "file_extension": ".py",
   "mimetype": "text/x-python",
   "name": "python",
   "nbconvert_exporter": "python",
   "pygments_lexer": "ipython3",
   "version": "3.6.10"
  }
 },
 "nbformat": 4,
 "nbformat_minor": 4
}
